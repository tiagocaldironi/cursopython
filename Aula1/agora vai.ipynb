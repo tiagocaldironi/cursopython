{
 "cells": [
  {
   "cell_type": "code",
   "execution_count": null,
   "metadata": {},
   "outputs": [],
   "source": [
    "import re\n",
    "\n",
    "def validar_cnpj(cnpj):\n",
    "    \"\"\"\n",
    "    Valida um número de CNPJ.\n",
    "    :param cnpj: str - O CNPJ no formato com ou sem máscara.\n",
    "    :return: bool - Retorna True se o CNPJ for válido, caso contrário False.\n",
    "    \"\"\"\n",
    "    # Remove caracteres não numéricos\n",
    "    cnpj = re.sub(r'\\D', '', cnpj)\n",
    "    \n",
    "    # Verifica se o CNPJ tem 14 dígitos\n",
    "    if len(cnpj) != 14:\n",
    "        return False\n",
    "    \n",
    "    # Verifica se todos os dígitos são iguais\n",
    "    if cnpj == cnpj[0] * 14:\n",
    "        return False\n",
    "\n",
    "    # Função para calcular os dígitos verificadores\n",
    "    def calcular_digito(cnpj_parcial, pesos):\n",
    "        soma = sum(int(digito) * peso for digito, peso in zip(cnpj_parcial, pesos))\n",
    "        resto = soma % 11\n",
    "        return '0' if resto < 2 else str(11 - resto)\n",
    "\n",
    "    # Pesos para o primeiro e segundo dígitos verificadores\n",
    "    pesos_primeiro = [5, 4, 3, 2, 9, 8, 7, 6, 5, 4, 3, 2]\n",
    "    pesos_segundo = [6] + pesos_primeiro\n",
    "\n",
    "    # Cálculo do primeiro dígito verificador\n",
    "    cnpj_parcial = cnpj[:12]\n",
    "    primeiro_digito = calcular_digito(cnpj_parcial, pesos_primeiro)\n",
    "\n",
    "    # Cálculo do segundo dígito verificador\n",
    "    cnpj_parcial += primeiro_digito\n",
    "    segundo_digito = calcular_digito(cnpj_parcial, pesos_segundo)\n",
    "\n",
    "    # Verifica se os dígitos verificadores calculados são iguais aos fornecidos\n",
    "    return cnpj[-2:] == primeiro_digito + segundo_digito\n",
    "\n",
    "# Exemplo de uso\n",
    "cnpj = \"11.222.333/0001-81\"\n",
    "if validar_cnpj(cnpj):\n",
    "    print(f\"O CNPJ {cnpj} é válido.\")\n",
    "else:\n",
    "    print(f\"O CNPJ {cnpj} é inválido.\")\n"
   ]
  }
 ],
 "metadata": {
  "language_info": {
   "name": "python"
  }
 },
 "nbformat": 4,
 "nbformat_minor": 2
}
